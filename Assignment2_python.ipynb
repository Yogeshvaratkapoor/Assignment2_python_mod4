{
  "nbformat": 4,
  "nbformat_minor": 0,
  "metadata": {
    "colab": {
      "provenance": [],
      "collapsed_sections": [
        "A_IOnPx1BNBn"
      ]
    },
    "kernelspec": {
      "name": "python3",
      "display_name": "Python 3"
    },
    "language_info": {
      "name": "python"
    }
  },
  "cells": [
    {
      "cell_type": "code",
      "execution_count": null,
      "metadata": {
        "id": "GJS8qGWABJBq"
      },
      "outputs": [],
      "source": []
    },
    {
      "cell_type": "markdown",
      "source": [
        "#Theory Questions\n"
      ],
      "metadata": {
        "id": "A_IOnPx1BNBn"
      }
    },
    {
      "cell_type": "markdown",
      "source": [
        "#####Question1. what are data structures and why they are important?"
      ],
      "metadata": {
        "id": "Fal5kbf5BRO0"
      }
    },
    {
      "cell_type": "markdown",
      "source": [
        "Data structures are ways to store and organize data for efficient access and modification. In Python, they include lists, tuples, sets, and dictionaries. They are important because they help manage large data efficiently, support various algorithms, and improve code performance, readability, and problem-solving capabilities in programming."
      ],
      "metadata": {
        "id": "Or-GF0qIqbps"
      }
    },
    {
      "cell_type": "markdown",
      "source": [
        "##### Question2.Explain the difference between mutable and immutable data types with examples"
      ],
      "metadata": {
        "id": "PrtvzUToqwDn"
      }
    },
    {
      "cell_type": "markdown",
      "source": [
        "Mutable data types can be changed after creation, like lists and dictionaries. Immutable data types cannot be altered once created, such as strings, integers, and tuples. For example, a list’s elements can be updated"
      ],
      "metadata": {
        "id": "OkuzkS0Fq9X7"
      }
    },
    {
      "cell_type": "markdown",
      "source": [
        "##### Question3. What are the main differences between lists and tuples in *Python3*"
      ],
      "metadata": {
        "id": "evoyr1rGqufb"
      }
    },
    {
      "cell_type": "markdown",
      "source": [
        "Lists are mutable, meaning their elements can be changed, added, or removed, while tuples are immutable and cannot be modified after creation. Lists use square brackets [], and tuples use parentheses (). Lists are slower but flexible; tuples are faster and used when fixed data is needed."
      ],
      "metadata": {
        "id": "SU8pDyHQrRUd"
      }
    },
    {
      "cell_type": "markdown",
      "source": [
        "##### Question4  Describe how dictionaries store dataP"
      ],
      "metadata": {
        "id": "G0dAd993qqg_"
      }
    },
    {
      "cell_type": "markdown",
      "source": [
        "Dictionaries store data as key-value pairs in an unordered, mutable collection. Each key is unique and maps to a specific value. Python uses a hash table internally, allowing fast access, insertion, and deletion. Data is accessed using keys, like dict['key'], making dictionaries ideal for structured, lookup-based data.\n",
        "\n",
        "\n",
        "\n",
        "\n",
        "\n",
        "\n",
        "\n",
        "\n"
      ],
      "metadata": {
        "id": "8gQ34GjPriHl"
      }
    },
    {
      "cell_type": "markdown",
      "source": [
        "##### Question5. Why might you use a set instead of a list in Python3"
      ],
      "metadata": {
        "id": "9mkQC5UWqg7g"
      }
    },
    {
      "cell_type": "markdown",
      "source": [
        "You might use a set instead of a list in Python when you need to store unique items and perform fast membership tests. Sets automatically remove duplicates and offer faster lookup, union, and intersection operations than lists, making them ideal for tasks like filtering unique values or comparing collections."
      ],
      "metadata": {
        "id": "byFarnmWrt3P"
      }
    },
    {
      "cell_type": "markdown",
      "source": [
        "####Question6. What is a string in Python, and how is it different from a list3"
      ],
      "metadata": {
        "id": "X9LG5Xhjr364"
      }
    },
    {
      "cell_type": "markdown",
      "source": [
        "A string in Python is a sequence of characters enclosed in quotes ('hello' or \"hello\"). It is immutable, meaning it cannot be changed after creation. A list, on the other hand, is a mutable collection of elements, which can include strings, numbers, or other data types, and can be modified."
      ],
      "metadata": {
        "id": "mr3uomDBsB1_"
      }
    },
    {
      "cell_type": "markdown",
      "source": [
        "####Question7 How do tuples ensure data integrity in Python3"
      ],
      "metadata": {
        "id": "zEWMRETssHc4"
      }
    },
    {
      "cell_type": "markdown",
      "source": [
        "Tuples ensure data integrity in Python by being immutable, meaning their values cannot be changed after creation. This prevents accidental modifications, making them ideal for storing fixed collections of data. Their immutability helps maintain consistency, especially when used as keys in dictionaries or elements in sets."
      ],
      "metadata": {
        "id": "zFute9cisVGx"
      }
    },
    {
      "cell_type": "markdown",
      "source": [
        "####Question8 What is a hash table, and how does it relate to dictionaries in Python"
      ],
      "metadata": {
        "id": "JUgZF2gsstd7"
      }
    },
    {
      "cell_type": "markdown",
      "source": [
        "A hash table stores data using a key-to-index mapping via a hash function. In Python, dictionaries use hash tables to allow quick access, insertion, and deletion of values by keys, making lookups faster than linear structures like lists."
      ],
      "metadata": {
        "id": "GiovAgiRs0_H"
      }
    },
    {
      "cell_type": "markdown",
      "source": [
        "####Question9 Can lists contain different data types in Python"
      ],
      "metadata": {
        "id": "S1Rwizh-s9jW"
      }
    },
    {
      "cell_type": "markdown",
      "source": [
        "Yes, Python lists can contain different data types. A single list can store integers, strings, floats, booleans, other lists, and even objects. This flexibility makes lists highly versatile for storing heterogeneous collections of items."
      ],
      "metadata": {
        "id": "-NUHawjWtKXY"
      }
    },
    {
      "cell_type": "markdown",
      "source": [
        "####Explain why strings are immutable in Python"
      ],
      "metadata": {
        "id": "9rXkO_RUtPhC"
      }
    },
    {
      "cell_type": "markdown",
      "source": [
        "Strings are immutable in Python to ensure safety, efficiency, and hashability. Once created, they cannot be changed, which helps avoid bugs and allows strings to be used as keys in dictionaries or stored in sets without unexpected behavior."
      ],
      "metadata": {
        "id": "FNpu342AtRjU"
      }
    },
    {
      "cell_type": "markdown",
      "source": [
        "####question11 What advantages do dictionaries offer over lists for certain tasks"
      ],
      "metadata": {
        "id": "zUVAOynlt1mn"
      }
    },
    {
      "cell_type": "markdown",
      "source": [
        "Dictionaries offer key-based data access, enabling faster lookups compared to lists that require index-based or linear searching. For tasks involving labeled data, like storing attributes or configurations, dictionaries provide better clarity, efficiency, and flexibility."
      ],
      "metadata": {
        "id": "y_xtiTN6t6e5"
      }
    },
    {
      "cell_type": "markdown",
      "source": [
        "####Question12 Describe a scenario where using a tuple would be preferable over a listP"
      ],
      "metadata": {
        "id": "2XaQv4guuKML"
      }
    },
    {
      "cell_type": "markdown",
      "source": [
        " Tuples are preferable over lists when the data should not change, like coordinates, RGB values, or function return values. They provide data integrity, are hashable (usable as dictionary keys), and consume less memory than lists."
      ],
      "metadata": {
        "id": "TxCVZeC9uWk0"
      }
    },
    {
      "cell_type": "markdown",
      "source": [
        "####Question 13. How do sets handle duplicate values in Python"
      ],
      "metadata": {
        "id": "pilyjibTu_hU"
      }
    },
    {
      "cell_type": "markdown",
      "source": [
        "Sets in Python automatically remove duplicate values, ensuring each element is unique. When a set is created, any repeated items are discarded. This feature is useful for filtering duplicates or comparing distinct items efficiently."
      ],
      "metadata": {
        "id": "Z1Cn3yptvKTS"
      }
    },
    {
      "cell_type": "markdown",
      "source": [
        "#### Question14.How does the “in” keyword work differently for lists and dictionaries"
      ],
      "metadata": {
        "id": "LZ7hJOm5vKQD"
      }
    },
    {
      "cell_type": "markdown",
      "source": [
        "In lists, the in keyword checks if a value exists within elements. In dictionaries, it checks for the presence of a key, not a value. For example, 5 in list looks for the item, 5 in dict checks for a key named 5."
      ],
      "metadata": {
        "id": "Iz5D8l0TvX7_"
      }
    },
    {
      "cell_type": "markdown",
      "source": [
        "####qUESTION 15 Can you modify the elements of a tuple? Explain why or why notP"
      ],
      "metadata": {
        "id": "mZHH223bvfDm"
      }
    },
    {
      "cell_type": "markdown",
      "source": [
        "No, you cannot modify elements of a tuple because tuples are immutable. Once defined, their content remains fixed. If a tuple contains mutable elements like a list, those internal elements can be modified, but the tuple structure itself cannot be changed."
      ],
      "metadata": {
        "id": "mNr5bXiRvgkt"
      }
    },
    {
      "cell_type": "markdown",
      "source": [
        "####What is a nested dictionary, and give an example of its use case3"
      ],
      "metadata": {
        "id": "dPzDTWGnvqnF"
      }
    },
    {
      "cell_type": "markdown",
      "source": [
        "A nested dictionary is a dictionary within another dictionary. It’s used to represent complex, hierarchical data. Example:\n",
        "\n",
        "python\n",
        "Copy\n",
        "Edit\n",
        "student = {'name': 'Arya', 'grades': {'math': 92, 'science': 88}}```  \n",
        "Useful in storing structured data like user profiles, APIs, or configuration files."
      ],
      "metadata": {
        "id": "aJ-nrsLBv4i2"
      }
    },
    {
      "cell_type": "markdown",
      "source": [
        "####Describe the time complexity of accessing elements in a dictionaryP"
      ],
      "metadata": {
        "id": "RP5LtQcov_zU"
      }
    },
    {
      "cell_type": "markdown",
      "source": [
        "Describe the time complexity of accessing elements in a dictionary:**  \n",
        "Accessing elements in a dictionary has an average time complexity of **O(1)** because it uses a hash table. This ensures fast lookups, insertions, and deletions, making dictionaries more efficient than lists for accessing data by key."
      ],
      "metadata": {
        "id": "4AUH35nYwIbR"
      }
    },
    {
      "cell_type": "markdown",
      "source": [
        "####In what situations are lists preferred over dictionaries"
      ],
      "metadata": {
        "id": "M0INJdCTwNc6"
      }
    },
    {
      "cell_type": "markdown",
      "source": [
        "lists are preferred when data is ordered, indexed, or when duplicates are allowed. They’re ideal for storing sequences like tasks, numbers, or names where position matters and there's no need for key-value pairs or fast key-based lookups.\n"
      ],
      "metadata": {
        "id": "u_5jpH_IwT1X"
      }
    },
    {
      "cell_type": "markdown",
      "source": [
        "####qUESTION19 P Why are dictionaries considered unordered, and how does that affect data retrieval3\n"
      ],
      "metadata": {
        "id": "vRBQrcqvwWTi"
      }
    },
    {
      "cell_type": "markdown",
      "source": [
        "Dictionaries were considered unordered in Python versions before 3.7, meaning insertion order wasn’t guaranteed. In modern Python, order is preserved, but logic is still key-based. Data retrieval depends on keys, not positions, so order doesn’t affect accessing specific values."
      ],
      "metadata": {
        "id": "U6lPh3IFwf5f"
      }
    },
    {
      "cell_type": "markdown",
      "source": [
        "Question20. Explain the difference between a list and a dictionary in terms of data retrieval.\n",
        "- Lists use numerical indices to retrieve values (`list[0]`), while dictionaries use unique keys (`dict['name']`). Lists are best for ordered sequences; dictionaries are better for labeled data. Dictionary lookups are faster and more meaningful when keys represent data contextually."
      ],
      "metadata": {
        "id": "xx6FxQpmwlOX"
      }
    },
    {
      "cell_type": "markdown",
      "source": [
        "#Practical Questions\n"
      ],
      "metadata": {
        "id": "8JklHKUcoZC6"
      }
    },
    {
      "cell_type": "code",
      "source": [
        "#P Write a code to create a string with your name and print it\n",
        "name =\"Yogesh\"\n",
        "print(name)"
      ],
      "metadata": {
        "colab": {
          "base_uri": "https://localhost:8080/"
        },
        "id": "6zNIU1Elod6M",
        "outputId": "3060694e-fe71-49ca-f39e-4241e85e70fe"
      },
      "execution_count": 5,
      "outputs": [
        {
          "output_type": "stream",
          "name": "stdout",
          "text": [
            "Yogesh\n"
          ]
        }
      ]
    },
    {
      "cell_type": "code",
      "source": [
        "#Write a code to find the length of the string \"Hello World\"P\n",
        "str1=\"Hello World\"\n",
        "len(str1)"
      ],
      "metadata": {
        "colab": {
          "base_uri": "https://localhost:8080/"
        },
        "id": "1kV0ZY_lo0s1",
        "outputId": "4793c1d9-7f4c-49b5-dc9a-b835dfa108df"
      },
      "execution_count": 6,
      "outputs": [
        {
          "output_type": "execute_result",
          "data": {
            "text/plain": [
              "11"
            ]
          },
          "metadata": {},
          "execution_count": 6
        }
      ]
    },
    {
      "cell_type": "code",
      "source": [
        "#P Write a code to slice the first 3 characters from the string \"Python Programming\"P\n",
        "str1 = \"Python Programming\"\n",
        "str1[0:3]"
      ],
      "metadata": {
        "colab": {
          "base_uri": "https://localhost:8080/",
          "height": 35
        },
        "id": "kMK_jUhVo_bN",
        "outputId": "edf38b00-2bee-42f2-da7c-78d7bcd7f7bb"
      },
      "execution_count": 7,
      "outputs": [
        {
          "output_type": "execute_result",
          "data": {
            "text/plain": [
              "'Pyt'"
            ],
            "application/vnd.google.colaboratory.intrinsic+json": {
              "type": "string"
            }
          },
          "metadata": {},
          "execution_count": 7
        }
      ]
    },
    {
      "cell_type": "code",
      "source": [
        "#Write a code to convert the string \"hello\" to uppercase?\n",
        "str1 =\"hello\"\n",
        "str1.upper()"
      ],
      "metadata": {
        "colab": {
          "base_uri": "https://localhost:8080/",
          "height": 35
        },
        "id": "e8acDhrnpRyF",
        "outputId": "211e8a30-cb55-47ac-93a5-2f147c98ffce"
      },
      "execution_count": 8,
      "outputs": [
        {
          "output_type": "execute_result",
          "data": {
            "text/plain": [
              "'HELLO'"
            ],
            "application/vnd.google.colaboratory.intrinsic+json": {
              "type": "string"
            }
          },
          "metadata": {},
          "execution_count": 8
        }
      ]
    },
    {
      "cell_type": "code",
      "source": [
        "#Write a code to replace the word \"apple\" with \"orange\" in the string \"I like apple\n",
        "str1 = \"I like apple\"\n",
        "str1.replace(\"apple\",\"orange\")"
      ],
      "metadata": {
        "colab": {
          "base_uri": "https://localhost:8080/",
          "height": 35
        },
        "id": "rDkBDDoypeNg",
        "outputId": "03a7d869-39f3-4269-b23a-d93f359ebb76"
      },
      "execution_count": 9,
      "outputs": [
        {
          "output_type": "execute_result",
          "data": {
            "text/plain": [
              "'I like orange'"
            ],
            "application/vnd.google.colaboratory.intrinsic+json": {
              "type": "string"
            }
          },
          "metadata": {},
          "execution_count": 9
        }
      ]
    },
    {
      "cell_type": "code",
      "source": [
        "#Write a code to create a list with numbers 1 to 5 and print it\n",
        "list1 = [1,2,3,4,5]\n",
        "print(list1)"
      ],
      "metadata": {
        "colab": {
          "base_uri": "https://localhost:8080/"
        },
        "id": "zmkkf75ipvyN",
        "outputId": "d92d0315-a998-4869-a960-d04430fb9de2"
      },
      "execution_count": 10,
      "outputs": [
        {
          "output_type": "stream",
          "name": "stdout",
          "text": [
            "[1, 2, 3, 4, 5]\n"
          ]
        }
      ]
    },
    {
      "cell_type": "code",
      "source": [
        "#Write a code to append the number 10 to the list [1, 2, 3, 4]\n",
        "lis1=[1,2,3,4]\n",
        "lis1.append(10)\n",
        "print(lis1)"
      ],
      "metadata": {
        "colab": {
          "base_uri": "https://localhost:8080/"
        },
        "id": "2onEiDVfp7AO",
        "outputId": "0fbf49fc-7b1c-45cd-e05d-9a2c71dd1b26"
      },
      "execution_count": 11,
      "outputs": [
        {
          "output_type": "stream",
          "name": "stdout",
          "text": [
            "[1, 2, 3, 4, 10]\n"
          ]
        }
      ]
    },
    {
      "cell_type": "code",
      "source": [
        "#Write a code to remove the number 3 from the list [1, 2, 3, 4, 5]P\n",
        "lis =[1,2,3,4,5]\n",
        "lis.remove(3)\n",
        "lis"
      ],
      "metadata": {
        "colab": {
          "base_uri": "https://localhost:8080/"
        },
        "id": "TXZ7Z82lp7Ds",
        "outputId": "9e728a9e-a3f9-4b4f-c663-baa74eb3cca0"
      },
      "execution_count": 14,
      "outputs": [
        {
          "output_type": "execute_result",
          "data": {
            "text/plain": [
              "[1, 2, 4, 5]"
            ]
          },
          "metadata": {},
          "execution_count": 14
        }
      ]
    },
    {
      "cell_type": "code",
      "source": [
        "#Write a code to access the second element in the list ['a', 'b', 'c', 'd']P\n",
        "lis = ['a', 'b', 'c', 'd']\n",
        "lis[1]"
      ],
      "metadata": {
        "colab": {
          "base_uri": "https://localhost:8080/",
          "height": 35
        },
        "id": "JtP99xLtp7HU",
        "outputId": "8f00d700-3833-4c7c-86b2-05a5225e483e"
      },
      "execution_count": 15,
      "outputs": [
        {
          "output_type": "execute_result",
          "data": {
            "text/plain": [
              "'b'"
            ],
            "application/vnd.google.colaboratory.intrinsic+json": {
              "type": "string"
            }
          },
          "metadata": {},
          "execution_count": 15
        }
      ]
    },
    {
      "cell_type": "code",
      "source": [
        "#Write a code to reverse the list [10, 20, 30, 40, 50].\n",
        "lis=[10,20,30,40,50]\n",
        "lis[::-1]"
      ],
      "metadata": {
        "colab": {
          "base_uri": "https://localhost:8080/"
        },
        "id": "5HaRwzT-p7LG",
        "outputId": "27474aac-29db-4698-97e9-1dc587789aa6"
      },
      "execution_count": 16,
      "outputs": [
        {
          "output_type": "execute_result",
          "data": {
            "text/plain": [
              "[50, 40, 30, 20, 10]"
            ]
          },
          "metadata": {},
          "execution_count": 16
        }
      ]
    },
    {
      "cell_type": "code",
      "source": [
        "#Write a code to create a tuple with the elements 100, 200, 300 and print it\n",
        "tup =(100,200,300)\n",
        "print(tup)"
      ],
      "metadata": {
        "colab": {
          "base_uri": "https://localhost:8080/"
        },
        "id": "zybX3Zp9p7N5",
        "outputId": "065a9e5d-3e2e-473e-c445-9a7d9f2b4370"
      },
      "execution_count": 17,
      "outputs": [
        {
          "output_type": "stream",
          "name": "stdout",
          "text": [
            "(100, 200, 300)\n"
          ]
        }
      ]
    },
    {
      "cell_type": "code",
      "source": [
        "#Write a code to access the second-to-last element of the tuple ('red', 'green', 'blue', 'yellow').\n",
        "tup = ('red', 'green', 'blue', 'yellow')\n",
        "tup[-2]"
      ],
      "metadata": {
        "colab": {
          "base_uri": "https://localhost:8080/",
          "height": 35
        },
        "id": "r5CY-MHOqwmQ",
        "outputId": "293ad246-1579-4fd7-ec1c-612553d5ae88"
      },
      "execution_count": 18,
      "outputs": [
        {
          "output_type": "execute_result",
          "data": {
            "text/plain": [
              "'blue'"
            ],
            "application/vnd.google.colaboratory.intrinsic+json": {
              "type": "string"
            }
          },
          "metadata": {},
          "execution_count": 18
        }
      ]
    },
    {
      "cell_type": "code",
      "source": [
        "#. Write a code to find the minimum number in the tuple (10, 20, 5, 15).\n",
        "tup = (10, 20, 5, 15)\n",
        "min(tup)"
      ],
      "metadata": {
        "colab": {
          "base_uri": "https://localhost:8080/"
        },
        "id": "Hd_sZRTXqwpx",
        "outputId": "5522e86b-41c5-4257-db31-71a3d662e968"
      },
      "execution_count": 20,
      "outputs": [
        {
          "output_type": "execute_result",
          "data": {
            "text/plain": [
              "5"
            ]
          },
          "metadata": {},
          "execution_count": 20
        }
      ]
    },
    {
      "cell_type": "code",
      "source": [
        "#. Write a code to find the index of the element \"cat\" in the tuple ('dog', 'cat', 'rabbit')\n",
        "tup=('dog', 'cat', 'rabbit')\n",
        "tup.index('cat')"
      ],
      "metadata": {
        "colab": {
          "base_uri": "https://localhost:8080/"
        },
        "id": "q3DAXghnqwtM",
        "outputId": "064ab4e9-719a-4422-f2fb-63f437a73809"
      },
      "execution_count": 21,
      "outputs": [
        {
          "output_type": "execute_result",
          "data": {
            "text/plain": [
              "1"
            ]
          },
          "metadata": {},
          "execution_count": 21
        }
      ]
    },
    {
      "cell_type": "code",
      "source": [
        "\n",
        "# Write a code to create a tuple containing three different fruits and check if \"kiwi\" is in it\n",
        "tup =(\"apple\",\"banana\",\"kiwi\")\n",
        "for i in tup:\n",
        "  if i==\"kiwi\":\n",
        "    print(\"yes kiwi is there\")"
      ],
      "metadata": {
        "colab": {
          "base_uri": "https://localhost:8080/"
        },
        "id": "81CVDjK0rfIz",
        "outputId": "7499a271-a581-4abb-8459-250951dbbd68"
      },
      "execution_count": 22,
      "outputs": [
        {
          "output_type": "stream",
          "name": "stdout",
          "text": [
            "yes kiwi is there\n"
          ]
        }
      ]
    },
    {
      "cell_type": "code",
      "source": [
        "#Write a code to create a set with the elements 'a', 'b', 'c' and print it.\n",
        "set1={'a', 'b', 'c'}\n",
        "print(set1)"
      ],
      "metadata": {
        "colab": {
          "base_uri": "https://localhost:8080/"
        },
        "id": "v84ZoLxIre93",
        "outputId": "0f201ae3-e7ad-46d2-b539-220e0f711f83"
      },
      "execution_count": 25,
      "outputs": [
        {
          "output_type": "stream",
          "name": "stdout",
          "text": [
            "{'b', 'a', 'c'}\n"
          ]
        }
      ]
    },
    {
      "cell_type": "code",
      "source": [
        "# Write a code to remove the element 4 from the set {1, 2, 3, 4}\n",
        "set1={1, 2, 3, 4}\n",
        "set1.remove(4)\n",
        "set1"
      ],
      "metadata": {
        "colab": {
          "base_uri": "https://localhost:8080/"
        },
        "id": "47cPdj9RrfBz",
        "outputId": "b5083ccf-2cae-4825-fa55-4487ad661ca9"
      },
      "execution_count": 26,
      "outputs": [
        {
          "output_type": "execute_result",
          "data": {
            "text/plain": [
              "{1, 2, 3}"
            ]
          },
          "metadata": {},
          "execution_count": 26
        }
      ]
    },
    {
      "cell_type": "code",
      "source": [
        "# Write a code to find the union of two sets {1, 2, 3} and {3, 4, 5}\n",
        "set1={1, 2, 3}\n",
        "set2={3, 4, 5}\n",
        "set1.union(set2)"
      ],
      "metadata": {
        "colab": {
          "base_uri": "https://localhost:8080/"
        },
        "id": "RF_lqU5JrfFa",
        "outputId": "d6b7a376-6581-4f57-98c4-565bd2cefa08"
      },
      "execution_count": 27,
      "outputs": [
        {
          "output_type": "execute_result",
          "data": {
            "text/plain": [
              "{1, 2, 3, 4, 5}"
            ]
          },
          "metadata": {},
          "execution_count": 27
        }
      ]
    },
    {
      "cell_type": "code",
      "source": [
        "# Write a code to find the intersection of two sets {1, 2, 3} and {2, 3, 4}.\n",
        "set1={1, 2, 3}\n",
        "set2={2, 3, 4}\n",
        "set1.intersection(set2)"
      ],
      "metadata": {
        "colab": {
          "base_uri": "https://localhost:8080/"
        },
        "id": "rcURDouWqwwj",
        "outputId": "bbdcd3d6-ef00-4e8d-a101-73639d528a3d"
      },
      "execution_count": 28,
      "outputs": [
        {
          "output_type": "execute_result",
          "data": {
            "text/plain": [
              "{2, 3}"
            ]
          },
          "metadata": {},
          "execution_count": 28
        }
      ]
    },
    {
      "cell_type": "code",
      "source": [
        "#. Write a code to create a dictionary with the keys \"name\", \"age\", and \"city\", and print it\n",
        "dic ={\n",
        "    \"name\":\"Yogesh\",\n",
        "    \"age\":22,\n",
        "    \"city\":\"Mumbai\"\n",
        "}\n",
        "print(dic)\n"
      ],
      "metadata": {
        "colab": {
          "base_uri": "https://localhost:8080/"
        },
        "id": "_Icf28jwtKMC",
        "outputId": "c7763057-8542-4d21-f348-af2798ca690e"
      },
      "execution_count": 29,
      "outputs": [
        {
          "output_type": "stream",
          "name": "stdout",
          "text": [
            "{'name': 'Yogesh', 'age': 22, 'city': 'Mumbai'}\n"
          ]
        }
      ]
    },
    {
      "cell_type": "code",
      "source": [
        "#Write a code to add a new key-value pair \"country\": \"USA\" to the dictionary {'name': 'John', 'age': 25}.\n",
        "dic ={\n",
        "    \"name\":'John',\n",
        "    \"age\":25,\n",
        "\n",
        "}\n",
        "dic[\"country\"] = \"USA\"\n",
        "print(dic)\n"
      ],
      "metadata": {
        "colab": {
          "base_uri": "https://localhost:8080/"
        },
        "id": "7IDttJRstKRE",
        "outputId": "b9f95282-d49c-419e-b87e-eccf709051fa"
      },
      "execution_count": 32,
      "outputs": [
        {
          "output_type": "stream",
          "name": "stdout",
          "text": [
            "{'name': 'John', 'age': 25, 'country': 'USA'}\n"
          ]
        }
      ]
    },
    {
      "cell_type": "code",
      "source": [
        " #Write a code to access the value associated with the key \"name\" in the dictionary {'name': 'Alice', 'age': 30}\n",
        " dic ={'name': 'Alice', 'age': 30}\n",
        " dic[\"name\"]"
      ],
      "metadata": {
        "colab": {
          "base_uri": "https://localhost:8080/",
          "height": 35
        },
        "id": "C1nsvVFOtKV5",
        "outputId": "97a9d0ec-a452-4e2c-8f7c-3263cfc795ab"
      },
      "execution_count": 33,
      "outputs": [
        {
          "output_type": "execute_result",
          "data": {
            "text/plain": [
              "'Alice'"
            ],
            "application/vnd.google.colaboratory.intrinsic+json": {
              "type": "string"
            }
          },
          "metadata": {},
          "execution_count": 33
        }
      ]
    },
    {
      "cell_type": "code",
      "source": [
        "# Write a code to remove the key \"age\" from the dictionary {'name': 'Bob', 'age': 22, 'city': 'New York'}.\n",
        "dic ={'name': 'Bob', 'age': 22, 'city': 'New York'}\n",
        "dic.pop(\"age\")\n",
        "dic"
      ],
      "metadata": {
        "colab": {
          "base_uri": "https://localhost:8080/"
        },
        "id": "H3NVCq4JuI8G",
        "outputId": "decaa47e-cdab-4fd3-a2f7-a5659ed6c7c5"
      },
      "execution_count": 34,
      "outputs": [
        {
          "output_type": "execute_result",
          "data": {
            "text/plain": [
              "{'name': 'Bob', 'city': 'New York'}"
            ]
          },
          "metadata": {},
          "execution_count": 34
        }
      ]
    },
    {
      "cell_type": "code",
      "source": [
        "# Write a code to check if the key \"city\" exists in the dictionary {'name': 'Alice', 'city': 'Paris'}.\n",
        "dic ={'name': 'Alice', 'city': 'Paris'}\n",
        "if \"city\" in dic:\n",
        "  print(\"city is there\")"
      ],
      "metadata": {
        "colab": {
          "base_uri": "https://localhost:8080/"
        },
        "id": "iQu0jI5BuI_h",
        "outputId": "4019b34c-5fcc-46c1-f6de-f47880003034"
      },
      "execution_count": 35,
      "outputs": [
        {
          "output_type": "stream",
          "name": "stdout",
          "text": [
            "city is there\n"
          ]
        }
      ]
    },
    {
      "cell_type": "code",
      "source": [
        "# Write a code to create a list, a tuple, and a dictionary, and print them all.\n",
        "lis =[1,2,3,4]\n",
        "tup =(1,2,3,4)\n",
        "dic ={\n",
        "    \"name\":\"Yogesh\",\n",
        "    \"age\":22,\n",
        "    \"city\":\"Mumbai\"\n",
        "}\n",
        "print(lis)\n",
        "print(tup)\n",
        "print(dic)"
      ],
      "metadata": {
        "colab": {
          "base_uri": "https://localhost:8080/"
        },
        "id": "EZDWQl9XtKbq",
        "outputId": "9c24de90-6106-4805-ec4f-1f48d1b262eb"
      },
      "execution_count": 36,
      "outputs": [
        {
          "output_type": "stream",
          "name": "stdout",
          "text": [
            "[1, 2, 3, 4]\n",
            "(1, 2, 3, 4)\n",
            "{'name': 'Yogesh', 'age': 22, 'city': 'Mumbai'}\n"
          ]
        }
      ]
    },
    {
      "cell_type": "code",
      "source": [
        "# Write a code to create a list of 5 random numbers between 1 and 100, sort it in ascending order, and print the\n",
        "#result.(replaced)\n",
        "lis = [3,13,56,32,44]\n",
        "sorted(lis)\n",
        "print(lis)"
      ],
      "metadata": {
        "colab": {
          "base_uri": "https://localhost:8080/"
        },
        "id": "rMzLq3bltKfB",
        "outputId": "7f3533cb-a45f-48ee-ebb2-553948aa3d47"
      },
      "execution_count": 37,
      "outputs": [
        {
          "output_type": "stream",
          "name": "stdout",
          "text": [
            "[3, 13, 56, 32, 44]\n"
          ]
        }
      ]
    },
    {
      "cell_type": "code",
      "source": [
        "#. Write a code to create a list with strings and print the element at the third index\n",
        "lis =[\"apple\",\"banana\",\"kiwi\"]\n",
        "lis[2]"
      ],
      "metadata": {
        "colab": {
          "base_uri": "https://localhost:8080/",
          "height": 35
        },
        "id": "f7Vgce_Nu8PQ",
        "outputId": "4a6f1102-f107-4e6d-c2cc-e2644a41e35b"
      },
      "execution_count": 38,
      "outputs": [
        {
          "output_type": "execute_result",
          "data": {
            "text/plain": [
              "'kiwi'"
            ],
            "application/vnd.google.colaboratory.intrinsic+json": {
              "type": "string"
            }
          },
          "metadata": {},
          "execution_count": 38
        }
      ]
    },
    {
      "cell_type": "code",
      "source": [
        "#Write a code to combine two dictionaries into one and print the result\n",
        "dic1 ={\n",
        "    \"name\":\"Yogesh\",\n",
        "    \"age\":22,\n",
        "    \"city\":\"Mumbai\"\n",
        "}\n",
        "dic2 ={\n",
        "    \"name\":\"lokesh\",\n",
        "    \"age\":22,\n",
        "    \"city\":\"jaipur\"\n",
        "}\n",
        "dic1.update(dic2)\n",
        "dic1"
      ],
      "metadata": {
        "colab": {
          "base_uri": "https://localhost:8080/"
        },
        "id": "ysNafRQtu8Sn",
        "outputId": "1735b871-483c-4d04-bf2c-ded889ec743b"
      },
      "execution_count": 47,
      "outputs": [
        {
          "output_type": "execute_result",
          "data": {
            "text/plain": [
              "{'name': 'lokesh', 'age': 22, 'city': 'jaipur'}"
            ]
          },
          "metadata": {},
          "execution_count": 47
        }
      ]
    },
    {
      "cell_type": "code",
      "source": [
        "dic1 = {\n",
        "    \"name\": \"Yogesh\",\n",
        "    \"age\": 22,\n",
        "    \"city\": \"Mumbai\"\n",
        "}\n",
        "\n",
        "dic2 = {\n",
        "    \"email\": \"yogesh@example.com\",\n",
        "    \"phone\": \"1234567890\"\n",
        "}\n",
        "\n",
        "# Combine the dictionaries\n",
        "combined_dict = {**dic1, **dic2}"
      ],
      "metadata": {
        "id": "GmV6IUY8u8Yd"
      },
      "execution_count": null,
      "outputs": []
    },
    {
      "cell_type": "code",
      "source": [
        "#Write a code to convert a list of strings into a set.\n",
        "lis =[\"apple\",\"banana\",\"kiwi\"]\n",
        "set(lis)"
      ],
      "metadata": {
        "colab": {
          "base_uri": "https://localhost:8080/"
        },
        "id": "9WhcgvPfwrXc",
        "outputId": "9a2c793a-01ed-424e-fa38-3b4a7cd44393"
      },
      "execution_count": 48,
      "outputs": [
        {
          "output_type": "execute_result",
          "data": {
            "text/plain": [
              "{'apple', 'banana', 'kiwi'}"
            ]
          },
          "metadata": {},
          "execution_count": 48
        }
      ]
    }
  ]
}